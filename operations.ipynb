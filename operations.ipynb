{
 "metadata": {
  "language_info": {
   "codemirror_mode": {
    "name": "ipython",
    "version": 3
   },
   "file_extension": ".py",
   "mimetype": "text/x-python",
   "name": "python",
   "nbconvert_exporter": "python",
   "pygments_lexer": "ipython3",
   "version": "3.9.0-final"
  },
  "orig_nbformat": 2,
  "kernelspec": {
   "name": "python3",
   "display_name": "Python 3"
  }
 },
 "nbformat": 4,
 "nbformat_minor": 2,
 "cells": [
  {
   "cell_type": "code",
   "execution_count": 1,
   "metadata": {},
   "outputs": [],
   "source": [
    "import mods"
   ]
  },
  {
   "cell_type": "code",
   "execution_count": 2,
   "metadata": {},
   "outputs": [
    {
     "output_type": "stream",
     "name": "stdout",
     "text": [
      "19 >=  16 remainder 3\n3 >=  2 remainder 1\n1 >=  1 remainder 0\n2 >=  2 remainder 0\ncpx [0, 1, 0, 0, 1, 1]\ncpy [0, 0, 0, 0, 1, 0]\n[1]\n[1, 0]\n[0, 1, 1]\n[1, 1, 0, 0]\n[0, 0, 1, 1, 1]\n[1, 1, 1, 0, 0, 0]\n[1, 0, 0, 1, 1]\n[1, 0]\n[0, 0, 0, 1, 1, 1]\n"
     ]
    },
    {
     "output_type": "execute_result",
     "data": {
      "text/plain": [
       "7"
      ]
     },
     "metadata": {},
     "execution_count": 2
    }
   ],
   "source": [
    "x = 19\n",
    "y = 2\n",
    "mods.add(x,y)"
   ]
  },
  {
   "source": [
    "*Addition is a 2 variable operation. x + y\n",
    "*if y == x, the sum of x + y = z is equal to x + x, and y + y as well\n",
    "*Pemdas tells us that we perform the most basic operations last. This is because multiplication, division, and exponentiation are also 2 valued operations that involve recursive addition/subtraction. \n",
    "*As they are compressed addition/subtraction statements, it is as if they are in parentheses which we also know must be calculated first. parentheses are treated as if they are their own object as (6+8) really represents variable 14 just as (2^2) really represents variable 4"
   ],
   "cell_type": "markdown",
   "metadata": {}
  },
  {
   "cell_type": "code",
   "execution_count": 3,
   "metadata": {},
   "outputs": [],
   "source": [
    "#For Multiplication, we only need one value to multiply. We start with value 0 and for count #times we add x to our value. The multiplication function requires one other value which is the amount of times to add x to the running value "
   ]
  },
  {
   "cell_type": "code",
   "execution_count": 4,
   "metadata": {},
   "outputs": [
    {
     "output_type": "stream",
     "name": "stdout",
     "text": [
      "7 >=  4 remainder 3\n3 >=  2 remainder 1\n1 >=  1 remainder 0\ncpx [0, 1, 1, 1]\ncpy [0, 0, 0, 0]\n[1]\n[1, 1]\n[1, 1, 1]\n[1, 1, 1, 0]\n[1, 1, 1]\n[]\n[0, 1, 1, 1]\n7\n7 >=  4 remainder 3\n3 >=  2 remainder 1\n1 >=  1 remainder 0\n7 >=  4 remainder 3\n3 >=  2 remainder 1\n1 >=  1 remainder 0\ncpx [0, 1, 1, 1]\ncpy [0, 1, 1, 1]\n[0]\n[0, 1]\n[1, 0, 1]\n[1, 0, 1, 1]\n[1, 1, 1]\n[1, 1, 1]\n[1, 1, 0, 1]\n13\n7 >=  4 remainder 3\n3 >=  2 remainder 1\n1 >=  1 remainder 0\n13 >=  8 remainder 5\n5 >=  4 remainder 1\n1 >=  1 remainder 0\ncpx [0, 0, 1, 1, 1]\ncpy [0, 1, 1, 0, 1]\n[0]\n[0, 0]\n[0, 0, 1]\n[1, 0, 0, 0]\n[0, 0, 0, 1, 1]\n[1, 1, 1]\n[1, 1, 0, 1]\n[1, 1, 0, 0, 0]\n24\n3 >=  2 remainder 1\n1 >=  1 remainder 0\ncpx [0, 1, 1]\ncpy [0, 0, 0]\n[1]\n[1, 1]\n[1, 1, 0]\n[1, 1]\n[]\n[0, 1, 1]\n3\n3 >=  2 remainder 1\n1 >=  1 remainder 0\n3 >=  2 remainder 1\n1 >=  1 remainder 0\ncpx [0, 1, 1]\ncpy [0, 1, 1]\n[0]\n[0, 1]\n[1, 0, 1]\n[1, 1]\n[1, 1]\n[1, 0, 1]\n5\n3 >=  2 remainder 1\n1 >=  1 remainder 0\n5 >=  4 remainder 1\n1 >=  1 remainder 0\ncpx [0, 0, 1, 1]\ncpy [0, 1, 0, 1]\n[0]\n[0, 0]\n[0, 0, 0]\n[0, 0, 0, 1]\n[1, 1]\n[1, 0, 1]\n[1, 0, 0, 0]\n8\n3 >=  2 remainder 1\n1 >=  1 remainder 0\n8 >=  8 remainder 0\ncpx [0, 0, 0, 1, 1]\ncpy [0, 1, 0, 0, 0]\n[1]\n[1, 1]\n[1, 1, 0]\n[0, 1, 1, 1]\n[1, 1, 1, 0, 0]\n[1, 1]\n[1, 0, 0, 0]\n[0, 0, 1, 1, 1]\n7\n3 >=  2 remainder 1\n1 >=  1 remainder 0\n7 >=  4 remainder 3\n3 >=  2 remainder 1\n1 >=  1 remainder 0\ncpx [0, 0, 1, 1]\ncpy [0, 1, 1, 1]\n[0]\n[0, 1]\n[1, 0, 0]\n[0, 0, 1, 1]\n[1, 1]\n[1, 1, 1]\n[1, 1, 0, 0]\n12\n3 >=  2 remainder 1\n1 >=  1 remainder 0\n12 >=  8 remainder 4\n4 >=  4 remainder 0\ncpx [0, 0, 0, 1, 1]\ncpy [0, 1, 1, 0, 0]\n[1]\n[1, 1]\n[1, 1, 1]\n[1, 1, 1, 1]\n[1, 1, 1, 1, 0]\n[1, 1]\n[1, 1, 0, 0]\n[0, 1, 1, 1, 1]\n15\n3 >=  2 remainder 1\n1 >=  1 remainder 0\n15 >=  8 remainder 7\n7 >=  4 remainder 3\n3 >=  2 remainder 1\n1 >=  1 remainder 0\ncpx [0, 0, 0, 1, 1]\ncpy [0, 1, 1, 1, 1]\n[0]\n[0, 1]\n[1, 0, 0]\n[0, 0, 1, 0]\n[0, 1, 0, 0, 1]\n[1, 1]\n[1, 1, 1, 1]\n[1, 0, 0, 1, 0]\n18\n"
     ]
    }
   ],
   "source": [
    "def Multiply(x, count):\n",
    "    rval = 0\n",
    "    for i in range(count):\n",
    "        rval = mods.add(x, rval)\n",
    "        print(rval)\n",
    "Multiply(7,3)\n",
    "Multiply(3,7)"
   ]
  },
  {
   "cell_type": "code",
   "execution_count": 5,
   "metadata": {},
   "outputs": [],
   "source": [
    "#Multiplication doesn't need to differentiate between the count and the x value because the running value being added is always x\n",
    "#Exponentiation needs to differentiate the x and count variables because the running value is changing in the operation and is not always x"
   ]
  },
  {
   "cell_type": "code",
   "execution_count": 6,
   "metadata": {},
   "outputs": [],
   "source": [
    "#In Multiplication, we are introducing the loop. Addition is the most basic operation in math, just as the and/or is in Logic. We deal with these last as they are fully expanded. x + y + z = (x + y) + z = x + (y + z) because there is nothing to further expand. \n",
    "\n",
    "#By having nothing left to expand, I mean that because the more advanced operations are loops of addition or loops of loops of addition etc., by multiplying in an equation, we are folding out addition into a compressed format. \n"
   ]
  },
  {
   "cell_type": "code",
   "execution_count": 7,
   "metadata": {},
   "outputs": [],
   "source": [
    "#We multiply before adding as to correctly translate the variables before solving. For any x and any integer, well say 4, 4x = x+x+x+x. x can represent any variable and may represent the result of another operation such as \n",
    "# x = 2*z; so 4x = 4(2z) and 2z = z+z so 4x = 4(z+z) = eight zs"
   ]
  },
  {
   "cell_type": "code",
   "execution_count": 8,
   "metadata": {},
   "outputs": [
    {
     "output_type": "stream",
     "name": "stdout",
     "text": [
      "\n3x + 1 =\n{ x+ x+ x}+1\n"
     ]
    }
   ],
   "source": [
    "#Lets try to translate this\n",
    "def transMult(x, count):\n",
    "    print(\"{\",x, end='')\n",
    "    for i in range(count-1):\n",
    "        print(\"+\",x, end='')\n",
    "    print(\"}\", end='')\n",
    "\n",
    "print()\n",
    "print(\"3x + 1 =\")\n",
    "transMult('x',3)\n",
    "print(\"+1\")\n",
    "    \n",
    "#If we have value of x, this is exactly what our Multiply function does, then adds\n",
    "#This shows us that our notation for the advanced functions is for compressions sake and must be translated if possible. If not translated, it is meant to represent something not immedietely solvable"
   ]
  },
  {
   "cell_type": "code",
   "execution_count": 9,
   "metadata": {},
   "outputs": [
    {
     "output_type": "stream",
     "name": "stdout",
     "text": [
      "2 >=  2 remainder 0\ncpx [0, 1, 0]\ncpy [0, 0, 0]\n[0]\n[0, 1]\n[1, 0, 0]\n[1, 0]\n[]\n[0, 0, 1]\n1\n2 >=  2 remainder 0\n1 >=  1 remainder 0\ncpx [0, 1, 0]\ncpy [0, 0, 1]\n[1]\n[1, 1]\n[1, 1, 0]\n[1, 0]\n[1]\n[0, 1, 1]\n3\n3 >=  2 remainder 1\n1 >=  1 remainder 0\ncpx [0, 1, 1]\ncpy [0, 0, 0]\n[1]\n[1, 1]\n[1, 1, 0]\n[1, 1]\n[]\n[0, 1, 1]\n3\n3 >=  2 remainder 1\n1 >=  1 remainder 0\n3 >=  2 remainder 1\n1 >=  1 remainder 0\ncpx [0, 1, 1]\ncpy [0, 1, 1]\n[0]\n[0, 1]\n[1, 0, 1]\n[1, 1]\n[1, 1]\n[1, 0, 1]\n5\n5\n"
     ]
    }
   ],
   "source": [
    "def exp(x, y):\n",
    "    z = x\n",
    "    for i in range(y-1):\n",
    "        z = x * z\n",
    "    return z\n",
    "print(exp(2,3))"
   ]
  },
  {
   "cell_type": "code",
   "execution_count": null,
   "metadata": {},
   "outputs": [],
   "source": []
  }
 ]
}