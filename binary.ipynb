{
 "cells": [
  {
   "cell_type": "code",
   "execution_count": 28,
   "metadata": {},
   "outputs": [
    {
     "name": "stdout",
     "output_type": "stream",
     "text": [
      "Input Number to convert to Binary\n"
     ]
    },
    {
     "name": "stdin",
     "output_type": "stream",
     "text": [
      " 88\n"
     ]
    },
    {
     "name": "stdout",
     "output_type": "stream",
     "text": [
      "88 >=  64 remainder 24\n",
      "24 >=  16 remainder 8\n",
      "8 >=  8 remainder 0\n"
     ]
    },
    {
     "data": {
      "text/plain": [
       "[1, 0, 1, 1, 0, 0, 0]"
      ]
     },
     "execution_count": 28,
     "metadata": {},
     "output_type": "execute_result"
    }
   ],
   "source": [
    "def numToBin(x):\n",
    "    listSize = 0\n",
    "    #if 15, 1<15,2<15,4<15,8<15,16>15\n",
    "    #        0    1    2    3      4\n",
    "    for listSize in range(10):\n",
    "        if 2**listSize >= x:\n",
    "            break\n",
    "            \n",
    "    backCount = listSize -1 \n",
    "    staticNum = x\n",
    "    binNum = list()\n",
    "    for i in range(listSize):\n",
    "        if staticNum >= 2**backCount:\n",
    "            print(staticNum, \">= \",2**backCount, \"remainder\", staticNum- 2**backCount)\n",
    "            staticNum = staticNum - (2**backCount)\n",
    "            binNum.append(1)\n",
    "            \n",
    "        else:\n",
    "            binNum.append(0)\n",
    "        backCount = backCount-1\n",
    "    return binNum\n",
    "\n",
    "print(\"Input Number to convert to Binary\")\n",
    "numToBin(int(input()))"
   ]
  },
  {
   "cell_type": "code",
   "execution_count": 8,
   "metadata": {},
   "outputs": [
    {
     "name": "stdout",
     "output_type": "stream",
     "text": [
      "input binary string\n"
     ]
    },
    {
     "name": "stdin",
     "output_type": "stream",
     "text": [
      " 011\n"
     ]
    },
    {
     "name": "stdout",
     "output_type": "stream",
     "text": [
      "6\n"
     ]
    }
   ],
   "source": [
    "def binToInt(binNum):\n",
    "    revBN = list()\n",
    "    bnlen = len(binNum)-1\n",
    "    counter = 0\n",
    "    for i in range(len(binNum)):\n",
    "        counter = counter+int(binNum[bnlen])*(2**(i+1))\n",
    "        bnlen = bnlen - 1\n",
    "    print(counter)\n",
    "    \n",
    "print(\"input binary string\")\n",
    "binToInt(str(input()))"
   ]
  },
  {
   "cell_type": "code",
<<<<<<< Updated upstream
   "execution_count": 1,
   "metadata": {},
   "outputs": [
    {
     "ename": "SyntaxError",
     "evalue": "'break' outside loop (<ipython-input-1-5f8f151565d5>, line 13)",
     "output_type": "error",
     "traceback": [
      "\u001b[0;36m  File \u001b[0;32m\"<ipython-input-1-5f8f151565d5>\"\u001b[0;36m, line \u001b[0;32m13\u001b[0m\n\u001b[0;31m    break\u001b[0m\n\u001b[0m    ^\u001b[0m\n\u001b[0;31mSyntaxError\u001b[0m\u001b[0;31m:\u001b[0m 'break' outside loop\n"
=======
   "execution_count": 23,
   "metadata": {},
   "outputs": [
    {
     "output_type": "stream",
     "name": "stdout",
     "text": [
      "[1, 0, 1]\n5\n + \n[1, 0, 1]\n5\n=\n[1, 0, 1, 0]\n=\n10\n"
>>>>>>> Stashed changes
     ]
    }
   ],
   "source": [
    "def binAdd(x, y):\n",
    "    \n",
    "    #cpx/y will have same length as 1=01 in binary\n",
    "    cpx = x\n",
    "    xpy = y\n",
    "    if len(x) > len(y):\n",
    "        for j in len(x)-len(y):\n",
    "            cpy.append(0)\n",
    "    elif len(y) > len(x):\n",
    "        for k in len(y)-len(x):\n",
    "            cpx.append(0)\n",
    "    else:\n",
    "        break\n",
    "    \n",
<<<<<<< Updated upstream
    "    #set reverse arrays\n",
    "    revx = list()\n",
    "    revy = list()\n",
    "    bc = len(cpx)-1\n",
    "    for rx in range(len(cpx)):\n",
    "        revx.append(cpx[bc])\n",
    "        revy.append(cpy[bc])\n",
    "        bc = bc - 1\n",
    "    \n",
    "        \n",
    "    z = list()\n",
    "    carry = False\n",
    "    for i in range(len(cpx)):\n",
    "        z.append(cpx[i] or cpy[i])\n",
    "        if cpx[i] and cpy[i]:\n",
    "            carry = True\n",
    "        else:\n",
    "            carry = False"
=======
    "    carry = 0\n",
    "    for j in range(length):\n",
    "        if carry == 0:\n",
    "            if x[len(x)-j-1] == 0:\n",
    "                if y[len(y)-j-1] == 0:\n",
    "                    carry = 0\n",
    "                    tmp.insert(j, 0)\n",
    "                else: #y[len(y)-j] == 1\\\n",
    "                    carry = 0\n",
    "                    tmp.insert(j, 1)\n",
    "            else: #x 1\\n\",\n",
    "                if y[len(y)-j-1] == 0:\n",
    "                    carry = 0\n",
    "                    tmp.insert(j, 1)\n",
    "                else: #y 1 x 1 c 0\n",
    "                    carry = 1\n",
    "                    tmp.insert(j, 0)\n",
    "        else: #c 1\\n\",\n",
    "            if x[len(x)-j-1] == 0:\n",
    "                if y[len(y)-j-1] == 0: #c1 x0 y0\n",
    "                    carry = 0\n",
    "                    tmp.insert(j, 1)\n",
    "                else: # c1 x0 y1\n",
    "                    carry = 1\n",
    "                    tmp.insert(j, 0)\n",
    "            else:\n",
    "                if y[len(y)-j-1] == 0: #c1 x1 y0\n",
    "                    carry = 1\n",
    "                    tmp.insert(j, 0)\n",
    "                else: #c1 x1 y1\n",
    "                    carry = 1\n",
    "                    tmp.insert(j, 1)\n",
    "    if carry == 1:\n",
    "        tmp.insert(0, 1)\n",
    "    print(x)\n",
    "    print(binaryToInt(x))\n",
    "    print(\" + \")\n",
    "    print(y)\n",
    "    print(binaryToInt(y))\n",
    "    print(\"=\")\n",
    "    return tmp\n",
    "   \n",
    "        #tempsum = []\\n\",\n",
    "        #for i in range(length):\\n\",\n",
    "m = []\n",
    "n = []\n",
    "m.append(int(1))\n",
    "m.append(int(0))\n",
    "m.append(int(1))\n",
    "    \n",
    "n.append(int(1))\n",
    "n.append(int(0))\n",
    "n.append(int(1))\n",
    "\n",
    "z = binaryAdd(m,n)\n",
    "print(z)\n",
    "print(\"=\")\n",
    "print(binaryToInt(z))"
>>>>>>> Stashed changes
   ]
  }
 ],
 "metadata": {
  "kernelspec": {
   "display_name": "Python 3",
   "language": "python",
   "name": "python3"
  },
  "language_info": {
   "codemirror_mode": {
    "name": "ipython",
    "version": 3
   },
   "file_extension": ".py",
   "mimetype": "text/x-python",
   "name": "python",
   "nbconvert_exporter": "python",
   "pygments_lexer": "ipython3",
   "version": "3.9.0+"
  }
 },
 "nbformat": 4,
 "nbformat_minor": 4
}
