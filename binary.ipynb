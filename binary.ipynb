{
 "cells": [
  {
   "cell_type": "code",
   "execution_count": 18,
   "metadata": {},
   "outputs": [],
   "source": [
    "import mods"
   ]
  },
  {
   "cell_type": "code",
   "execution_count": 19,
   "metadata": {},
   "outputs": [
    {
     "output_type": "stream",
     "name": "stdout",
     "text": [
      "[1, 1, 1, 1]\n"
     ]
    }
   ],
   "source": [
    "def numToBinary(x):\n",
    "    tmpx = x\n",
    "    counter = 0\n",
    "    binNum = []\n",
    "    while 2**counter <= x: #If less than 8 for example, must only need 3 digits\n",
    "        counter += 1\n",
    "    for i in range(counter):\n",
    "        if tmpx - 2**(counter-i-1) >= 0: #if can subtract by next highest power of 2, do it and append 1 to binNum. \n",
    "            tmpx -= 2**(counter-i-1) #Set tmpx as remainder of the subtraction\n",
    "            binNum.append(int(1)) #mark in binNum that this operation was done successfully\n",
    "        else:\n",
    "            binNum.append(int(0))\n",
    "    return binNum\n",
    "print(numToBinary(15))"
   ]
  },
  {
   "cell_type": "code",
   "execution_count": 20,
   "metadata": {},
   "outputs": [
    {
     "output_type": "stream",
     "name": "stdout",
     "text": [
      "5\n"
     ]
    }
   ],
   "source": [
    "def binaryToInt(binaryNum):\n",
    "    sum = 0\n",
    "    for i in range(len(binaryNum)):\n",
    "        if int(binaryNum[len(binaryNum)-i-1]) == 1:\n",
    "            sum += 2**i\n",
    "    return sum\n",
    "\n",
    "x = []\n",
    "\n",
    "x.append(int(1))\n",
    "x.append(int(0))\n",
    "x.append(int(1))\n",
    "\n",
    "print(binaryToInt(x))"
   ]
  },
  {
   "cell_type": "code",
   "execution_count": 21,
   "metadata": {},
   "outputs": [
    {
     "output_type": "stream",
     "name": "stdout",
     "text": [
      "[1, 1, 1]\n7\n+\n[1, 1, 1, 1, 1]\n31\n[1, 0, 0, 1, 1, 0]\n=\n38\n"
     ]
    }
   ],
   "source": [
    "def binaryAdd(x, y): #takes lists ([0,0,1,0],[1,0,1])\n",
    "    rx = mods.revArray(x)\n",
    "    ry = mods.revArray(y)\n",
    "    if len(x) != len(ry):\n",
    "        if min(len(x),len(y)) == len(x):\n",
    "            s = rx\n",
    "        else:\n",
    "            s = ry\n",
    "    while len(rx) != len(ry):\n",
    "        s.append(0)\n",
    "\n",
    "    carry = 0\n",
    "    sum = []\n",
    "    for i in range(len(rx)):\n",
    "        if rx[i] and ry[i] and carry:\n",
    "            sum.append(1)\n",
    "            carry =1\n",
    "        elif (rx[i] and ry[i] and not carry) or (rx[i] and carry and not ry[i]) or (ry[i] and carry and not rx[i]):\n",
    "            sum.append(0)\n",
    "            carry = 1\n",
    "        elif (rx[i] and not carry and not ry[i]) or (carry and not rx[i] and not ry[i]) or (ry[i] and not carry and not rx[i]):\n",
    "            sum.append(1)\n",
    "            carry = 0\n",
    "        else: #all 0s\n",
    "            sum.append(0)\n",
    "            carry=0\n",
    "    if carry:\n",
    "        sum.append(1)\n",
    "    return(mods.revArray(sum))\n",
    "\n",
    "l = []\n",
    "o = []\n",
    "l.append(int(1))\n",
    "l.append(int(1))\n",
    "l.append(int(1))\n",
    "print(l)\n",
    "print(binaryToInt(l))\n",
    "print(\"+\")\n",
    "    \n",
    "o.append(int(1))\n",
    "o.append(int(1))\n",
    "o.append(int(1))\n",
    "o.append(int(1))\n",
    "o.append(int(1))\n",
    "print(o)\n",
    "print(binaryToInt(o))\n",
    "\n",
    "\n",
    "h = binAdd2(l,o)\n",
    "print(h)\n",
    "print(\"=\")\n",
    "print(binaryToInt(h))"
   ]
  },
  {
   "cell_type": "code",
   "execution_count": null,
   "metadata": {},
   "outputs": [],
   "source": []
  }
 ],
 "metadata": {
  "kernelspec": {
   "display_name": "Python 3",
   "language": "python",
   "name": "python3"
  },
  "language_info": {
   "codemirror_mode": {
    "name": "ipython",
    "version": 3
   },
   "file_extension": ".py",
   "mimetype": "text/x-python",
   "name": "python",
   "nbconvert_exporter": "python",
   "pygments_lexer": "ipython3",
   "version": "3.9.2-final"
  }
 },
 "nbformat": 4,
 "nbformat_minor": 4
}