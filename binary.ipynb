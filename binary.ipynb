{
 "cells": [
  {
   "cell_type": "code",
   "execution_count": 31,
   "metadata": {},
   "outputs": [
    {
     "output_type": "stream",
     "name": "stdout",
     "text": [
      "[1, 1, 1, 1]\n"
     ]
    }
   ],
   "source": [
    "def numToBinary(x):\n",
    "    tmpx = x\n",
    "    counter = 0\n",
    "    binNum = []\n",
    "    while 2**counter <= x: #If less than 8 for example, must only need 3 digits\n",
    "        counter += 1\n",
    "    for i in range(counter):\n",
    "        if tmpx - 2**(counter-i-1) >= 0: #if can subtract by next highest power of 2, do it and append 1 to binNum. \n",
    "            tmpx -= 2**(counter-i-1) #Set tmpx as remainder of the subtraction\n",
    "            binNum.append(int(1)) #mark in binNum that this operation was done successfully\n",
    "        else:\n",
    "            binNum.append(int(0))\n",
    "    return binNum\n",
    "print(numToBinary(15))"
   ]
  },
  {
   "cell_type": "code",
   "execution_count": 20,
   "metadata": {},
   "outputs": [
    {
     "output_type": "stream",
     "name": "stdout",
     "text": [
      "5\n"
     ]
    }
   ],
   "source": [
    "def binaryToInt(binaryNum):\n",
    "    sum = 0\n",
    "    for i in range(len(binaryNum)):\n",
    "        if int(binaryNum[len(binaryNum)-i-1]) == 1:\n",
    "            sum += 2**i\n",
    "    return sum\n",
    "\n",
    "x = []\n",
    "\n",
    "x.append(int(1))\n",
    "x.append(int(0))\n",
    "x.append(int(1))\n",
    "\n",
    "print(binaryToInt(x))"
   ]
  },
  {
   "cell_type": "code",
   "execution_count": 23,
   "metadata": {},
   "outputs": [
    {
     "output_type": "stream",
     "name": "stdout",
     "text": [
      "[1, 0, 1]\n5\n + \n[1, 0, 1]\n5\n=\n[1, 0, 1, 0]\n=\n10\n"
     ]
    }
   ],
   "source": [
    "def binaryAdd(x, y): #takes lists ([0,0,1,0],[1,0,1])\n",
    "    length = 0\n",
    "    tmp = []\n",
    "    if len(x) >= len(y):\n",
    "        g = x\n",
    "        s = y\n",
    "    else:\n",
    "        g = y\n",
    "        s = x\n",
    "    length = len(g)\n",
    "    for i in range(len(g)-len(s)):\n",
    "        s.insert(0, 0)\n",
    "    \n",
    "    carry = 0\n",
    "    for j in range(length):\n",
    "        if carry == 0:\n",
    "            if x[len(x)-j-1] == 0:\n",
    "                if y[len(y)-j-1] == 0:\n",
    "                    carry = 0\n",
    "                    tmp.insert(j, 0)\n",
    "                else: #y[len(y)-j] == 1\\\n",
    "                    carry = 0\n",
    "                    tmp.insert(j, 1)\n",
    "            else: #x 1\\n\",\n",
    "                if y[len(y)-j-1] == 0:\n",
    "                    carry = 0\n",
    "                    tmp.insert(j, 1)\n",
    "                else: #y 1 x 1 c 0\n",
    "                    carry = 1\n",
    "                    tmp.insert(j, 0)\n",
    "        else: #c 1\\n\",\n",
    "            if x[len(x)-j-1] == 0:\n",
    "                if y[len(y)-j-1] == 0: #c1 x0 y0\n",
    "                    carry = 0\n",
    "                    tmp.insert(j, 1)\n",
    "                else: # c1 x0 y1\n",
    "                    carry = 1\n",
    "                    tmp.insert(j, 0)\n",
    "            else:\n",
    "                if y[len(y)-j-1] == 0: #c1 x1 y0\n",
    "                    carry = 1\n",
    "                    tmp.insert(j, 0)\n",
    "                else: #c1 x1 y1\n",
    "                    carry = 1\n",
    "                    tmp.insert(j, 1)\n",
    "    if carry == 1:\n",
    "        tmp.insert(0, 1)\n",
    "    print(x)\n",
    "    print(binaryToInt(x))\n",
    "    print(\" + \")\n",
    "    print(y)\n",
    "    print(binaryToInt(y))\n",
    "    print(\"=\")\n",
    "    return tmp\n",
    "   \n",
    "        #tempsum = []\\n\",\n",
    "        #for i in range(length):\\n\",\n",
    "m = []\n",
    "n = []\n",
    "m.append(int(1))\n",
    "m.append(int(0))\n",
    "m.append(int(1))\n",
    "    \n",
    "n.append(int(1))\n",
    "n.append(int(0))\n",
    "n.append(int(1))\n",
    "\n",
    "z = binaryAdd(m,n)\n",
    "print(z)\n",
    "print(\"=\")\n",
    "print(binaryToInt(z))"
   ]
  }
 ],
 "metadata": {
  "kernelspec": {
   "display_name": "Python 3",
   "language": "python",
   "name": "python3"
  },
  "language_info": {
   "codemirror_mode": {
    "name": "ipython",
    "version": 3
   },
   "file_extension": ".py",
   "mimetype": "text/x-python",
   "name": "python",
   "nbconvert_exporter": "python",
   "pygments_lexer": "ipython3",
   "version": "3.9.2-final"
  }
 },
 "nbformat": 4,
 "nbformat_minor": 4
}