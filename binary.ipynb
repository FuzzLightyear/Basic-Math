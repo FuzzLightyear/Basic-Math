{
 "cells": [
  {
   "cell_type": "code",
   "execution_count": 7,
   "metadata": {},
   "outputs": [
    {
     "output_type": "stream",
     "name": "stdout",
     "text": [
      "Input Number to convert to Binary\n",
      "5 >=  4 remainder 1\n",
      "1 >=  1 remainder 0\n"
     ]
    },
    {
     "output_type": "execute_result",
     "data": {
      "text/plain": [
       "[1, 0, 1]"
      ]
     },
     "metadata": {},
     "execution_count": 7
    }
   ],
   "source": [
    "def numToBin(x):\n",
    "    listSize = 0\n",
    "    #if 15, 1<15,2<15,4<15,8<15,16>15\n",
    "    #        0    1    2    3      4\n",
    "    for listSize in range(10):\n",
    "        if 2**listSize >= x:\n",
    "            break\n",
    "            \n",
    "    backCount = listSize -1 \n",
    "    staticNum = x\n",
    "    binNum = list()\n",
    "    for i in range(listSize):\n",
    "        if staticNum >= 2**backCount:\n",
    "            print(staticNum, \">= \",2**backCount, \"remainder\", staticNum- 2**backCount)\n",
    "            staticNum = staticNum - (2**backCount)\n",
    "            binNum.append(1)\n",
    "            \n",
    "        else:\n",
    "            binNum.append(0)\n",
    "        backCount = backCount-1\n",
    "    return binNum\n",
    "\n",
    "print(\"Input Number to convert to Binary\")\n",
    "numToBin(int(input()))"
   ]
  },
  {
   "cell_type": "code",
   "execution_count": 20,
   "metadata": {},
   "outputs": [
    {
     "output_type": "stream",
     "name": "stdout",
     "text": [
      "5\n"
     ]
    }
   ],
   "source": [
    "def binaryToInt(binaryNum):\n",
    "    sum = 0\n",
    "    for i in range(len(binaryNum)):\n",
    "        if int(binaryNum[len(binaryNum)-i-1]) == 1:\n",
    "            sum += 2**i\n",
    "    return sum\n",
    "\n",
    "x = []\n",
    "\n",
    "x.append(int(1))\n",
    "x.append(int(0))\n",
    "x.append(int(1))\n",
    "\n",
    "print(binaryToInt(x))"
   ]
  },
  {
   "cell_type": "code",
   "execution_count": 6,
   "metadata": {},
   "outputs": [
    {
     "output_type": "stream",
     "name": "stdout",
     "text": [
      "[1, 0, 1]\n + \n[1, 0, 1]\n=\n[1, 0, 1, 0]\n"
     ]
    }
   ],
   "source": [
    "def binaryAdd(x, y): #takes lists ([0,0,1,0],[1,0,1])\n",
    "    length = 0\n",
    "    tmp = []\n",
    "    if len(x) >= len(y):\n",
    "        g = x\n",
    "        s = y\n",
    "    else:\n",
    "        g = y\n",
    "        s = x\n",
    "    length = len(g)\n",
    "    for i in range(len(g)-len(s)):\n",
    "        s.insert(0, 0)\n",
    "    \n",
    "    carry = 0\n",
    "    for j in range(length):\n",
    "        if carry == 0:\n",
    "            if x[len(x)-j-1] == 0:\n",
    "                if y[len(y)-j-1] == 0:\n",
    "                    carry = 0\n",
    "                    tmp.insert(j, 0)\n",
    "                else: #y[len(y)-j] == 1\\\n",
    "                    carry = 0\n",
    "                    tmp.insert(j, 1)\n",
    "            else: #x 1\\n\",\n",
    "                if y[len(y)-j-1] == 0:\n",
    "                    carry = 0\n",
    "                    tmp.insert(j, 1)\n",
    "                else: #y 1 x 1 c 0\n",
    "                    carry = 1\n",
    "                    tmp.insert(j, 0)\n",
    "        else: #c 1\\n\",\n",
    "            if x[len(x)-j-1] == 0:\n",
    "                if y[len(y)-j-1] == 0: #c1 x0 y0\n",
    "                    carry = 0\n",
    "                    tmp.insert(j, 1)\n",
    "                else: # c1 x0 y1\n",
    "                    carry = 1\n",
    "                    tmp.insert(j, 0)\n",
    "            else:\n",
    "                if y[len(y)-j-1] == 0: #c1 x1 y0\n",
    "                    carry = 1\n",
    "                    tmp.insert(j, 0)\n",
    "                else: #c1 x1 y1\n",
    "                    carry = 1\n",
    "                    tmp.insert(j, 1)\n",
    "    if carry == 1:\n",
    "        tmp.insert(0, 1)\n",
    "    print(x)\n",
    "    print(\" + \")\n",
    "    print(y)\n",
    "    print(\"=\")\n",
    "    return tmp\n",
    "   \n",
    "        #tempsum = []\\n\",\n",
    "        #for i in range(length):\\n\",\n",
    "m = []\n",
    "n = []\n",
    "m.append(int(1))\n",
    "m.append(int(0))\n",
    "m.append(int(1))\n",
    "    \n",
    "n.append(int(1))\n",
    "n.append(int(0))\n",
    "n.append(int(1))\n",
    "\n",
    "z = binaryAdd(m,n)\n",
    "print(z)"
   ]
  },
  {
   "cell_type": "code",
   "execution_count": null,
   "metadata": {},
   "outputs": [],
   "source": []
  }
 ],
 "metadata": {
  "kernelspec": {
   "display_name": "Python 3",
   "language": "python",
   "name": "python3"
  },
  "language_info": {
   "codemirror_mode": {
    "name": "ipython",
    "version": 3
   },
   "file_extension": ".py",
   "mimetype": "text/x-python",
   "name": "python",
   "nbconvert_exporter": "python",
   "pygments_lexer": "ipython3",
   "version": "3.9.2-final"
  }
 },
 "nbformat": 4,
 "nbformat_minor": 4
}