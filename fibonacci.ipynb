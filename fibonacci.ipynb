{
 "cells": [
  {
   "cell_type": "raw",
   "metadata": {},
   "source": [
    "The Fibonacci Numbers give us the golden ratio.\n",
    "Phi = lim(x->infinity):Phi+current/last /2\n",
    ".618 number which when x1 or +1 = Phi is same equation but swap current and last\n",
    "\n",
    "1.61 = (1+sqrt(5))/2\n",
    ".61 = (-1+sqrt(5))/2"
   ]
  },
  {
   "cell_type": "code",
   "execution_count": 3,
   "metadata": {},
   "outputs": [],
   "source": [
    "import matplotlib.pyplot as plt\n",
    "import numpy as np\n",
    "import mods"
   ]
  },
  {
   "cell_type": "raw",
   "metadata": {},
   "source": [
    "Fro Pacioli claimed the \"ideal\" human has all following ratios equal to phi\n",
    "    -height of head: width of head\n",
    "    -chin to eyes: chin to noes\n",
    "    -eyes to mouth: eyes to nose\n",
    "    -width of head: width of throat"
   ]
  },
  {
   "cell_type": "code",
   "execution_count": 5,
   "metadata": {},
   "outputs": [
    {
     "output_type": "stream",
     "name": "stdout",
     "text": [
      "input n number of loops\n",
      "10\n",
      "current: 1.0 ;  last: 1.0 ;\n",
      "current: 2.0 ;  last: 1.0 ;\n",
      "current: 3.0 ;  last: 2.0 ;\n",
      "current: 5.0 ;  last: 3.0 ;\n",
      "current: 8.0 ;  last: 5.0 ;\n",
      "current: 13.0 ;  last: 8.0 ;\n",
      "current: 21.0 ;  last: 13.0 ;\n",
      "current: 34.0 ;  last: 21.0 ;\n",
      "current: 55.0 ;  last: 34.0 ;\n",
      "current: 89.0 ;  last: 55.0 ;\n",
      "1.6176717630312516\n"
     ]
    }
   ],
   "source": [
    "def getPhiForN():\n",
    "    print(\"input n number of loops\")\n",
    "    n = int(input())\n",
    "    print(n)\n",
    "    \n",
    "    phi = 1.00\n",
    "    current = 1.00\n",
    "    last = 1.00\n",
    "    tmp = 1.00\n",
    "    phis = np.array([])\n",
    "    xp = list()\n",
    "    yp = list()\n",
    "    \n",
    "    for i in range(n):\n",
    "        print(\"current:\",current,\";  last:\",last,\";\")\n",
    "        tmp = current\n",
    "        current = current + last\n",
    "        last = tmp\n",
    "        phi = (phi+(current/last))/2\n",
    "        \n",
    "    print(phi)\n",
    "   # x, y = phis.T()\n",
    "    return phi\n",
    "phi = getPhiForN()"
   ]
  },
  {
   "cell_type": "code",
   "execution_count": 11,
   "metadata": {},
   "outputs": [
    {
     "output_type": "stream",
     "name": "stdout",
     "text": [
      "Enter Height\n",
      "Estimated Naval Height: 48.17839751643763\n"
     ]
    }
   ],
   "source": [
    "\n",
    "def humanFib():\n",
    "    print(\"Enter Height\")\n",
    "    height = float(input())\n",
    "    feetToNav = height*(phi-1)\n",
    "    print(\"Estimated Naval Height:\",feetToNav)\n",
    "    navalToHead = height - feetToNav\n",
    "    headToNip = navalToHead * (phi-1)\n",
    "    \n",
    "humanFib()"
   ]
  },
  {
   "cell_type": "code",
   "execution_count": null,
   "metadata": {},
   "outputs": [],
   "source": []
  }
 ],
 "metadata": {
  "kernelspec": {
   "display_name": "Python 3",
   "language": "python",
   "name": "python3"
  },
  "language_info": {
   "codemirror_mode": {
    "name": "ipython",
    "version": 3
   },
   "file_extension": ".py",
   "mimetype": "text/x-python",
   "name": "python",
   "nbconvert_exporter": "python",
   "pygments_lexer": "ipython3",
   "version": "3.9.0-final"
  }
 },
 "nbformat": 4,
 "nbformat_minor": 4
}